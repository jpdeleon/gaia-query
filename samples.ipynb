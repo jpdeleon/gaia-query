{
 "cells": [
  {
   "cell_type": "code",
   "execution_count": 1,
   "metadata": {},
   "outputs": [
    {
     "name": "stdout",
     "output_type": "stream",
     "text": [
      "Created TAP+ (v1.0.1) - Connection:\n",
      "\tHost: gea.esac.esa.int\n",
      "\tUse HTTPS: False\n",
      "\tPort: 80\n",
      "\tSSL Port: 443\n"
     ]
    }
   ],
   "source": [
    "from astroquery.gaia import Gaia\n",
    "from astropy.coordinates import SkyCoord\n",
    "import astropy.units as u\n",
    "import k2plr\n",
    "client = k2plr.API()"
   ]
  },
  {
   "cell_type": "code",
   "execution_count": 2,
   "metadata": {},
   "outputs": [],
   "source": [
    "def get_ra_dec_mag(epicnum,verbose=False):\n",
    "    '''\n",
    "    get ra, dec, and mag using `k2plr`\n",
    "    '''\n",
    "    if verbose:\n",
    "        print('\\nquerying RA and DEC...\\n')\n",
    "    epic = client.k2_star(int(epicnum))\n",
    "    ra  = float(epic.k2_ra)\n",
    "    dec = float(epic.k2_dec)\n",
    "    mag = float(epic.kp)\n",
    "    return ra, dec, mag\n",
    "\n",
    "def query_gaia(ra, dec, rad):\n",
    "    coord = SkyCoord(ra=ra, dec=dec, unit=(u.degree, u.degree), frame='icrs')\n",
    "#     width = u.Quantity(20, u.arcsec)\n",
    "#     height = u.Quantity(20, u.arcsec)\n",
    "#     tab = Gaia.query_object_async(coordinate=coord, width=width, height=height)\n",
    "    radius = u.Quantity(rad, u.arcsec)\n",
    "    tab = Gaia.query_object_async(coordinate=coord, radius=radius)\n",
    "    return tab.to_pandas()"
   ]
  },
  {
   "cell_type": "code",
   "execution_count": 3,
   "metadata": {},
   "outputs": [],
   "source": [
    "ra,dec,mag=get_ra_dec_mag(211929937)"
   ]
  },
  {
   "cell_type": "code",
   "execution_count": 4,
   "metadata": {},
   "outputs": [
    {
     "name": "stderr",
     "output_type": "stream",
     "text": [
      "WARNING: W35: None:5:0: W35: 'value' attribute required for INFO elements [astropy.io.votable.tree]\n",
      "WARNING: W35: None:6:0: W35: 'value' attribute required for INFO elements [astropy.io.votable.tree]\n",
      "WARNING: W35: None:7:0: W35: 'value' attribute required for INFO elements [astropy.io.votable.tree]\n",
      "WARNING: W35: None:8:0: W35: 'value' attribute required for INFO elements [astropy.io.votable.tree]\n",
      "WARNING: W35: None:10:0: W35: 'value' attribute required for INFO elements [astropy.io.votable.tree]\n",
      "WARNING: W27: None:11:0: W27: COOSYS deprecated in VOTable 1.2 [astropy.io.votable.tree]\n",
      "WARNING: W06: None:48:0: W06: Invalid UCD 'arith.ratio': Secondary word 'arith.ratio' is not valid as a primary word [astropy.io.votable.tree]\n",
      "WARNING: W50: None:51:0: W50: Invalid unit string 'mas.yr**-1' [astropy.io.votable.tree]\n",
      "WARNING: W50: None:54:0: W50: Invalid unit string 'mas.yr**-1' [astropy.io.votable.tree]\n",
      "WARNING: W50: None:57:0: W50: Invalid unit string 'mas.yr**-1' [astropy.io.votable.tree]\n",
      "WARNING: W50: None:60:0: W50: Invalid unit string 'mas.yr**-1' [astropy.io.votable.tree]\n",
      "WARNING: W50: None:123:0: W50: Invalid unit string 'mas**-2' [astropy.io.votable.tree]\n",
      "WARNING: W50: None:126:0: W50: Invalid unit string 'um**-1' [astropy.io.votable.tree]\n",
      "WARNING: W06: None:129:0: W06: Invalid UCD 'em.wavenumber;stat.error': Primary word 'stat.error' is not valid as a secondary word [astropy.io.votable.tree]\n",
      "WARNING: W50: None:129:0: W50: Invalid unit string 'um**-1' [astropy.io.votable.tree]\n",
      "WARNING: W06: None:141:0: W06: Invalid UCD 'pos.errorEllipse;stat.max': Secondary word 'pos.errorEllipse' is not valid as a primary word [astropy.io.votable.tree]\n",
      "WARNING: W50: None:156:0: W50: Invalid unit string ''electron'.s**-1' [astropy.io.votable.tree]\n",
      "WARNING: W50: None:159:0: W50: Invalid unit string ''electron'.s**-1' [astropy.io.votable.tree]"
     ]
    },
    {
     "name": "stdout",
     "output_type": "stream",
     "text": [
      "Query finished.\n"
     ]
    },
    {
     "name": "stderr",
     "output_type": "stream",
     "text": [
      "\n",
      "WARNING: W06: None:162:0: W06: Invalid UCD 'arith.ratio': Secondary word 'arith.ratio' is not valid as a primary word [astropy.io.votable.tree]\n",
      "WARNING: W50: None:171:0: W50: Invalid unit string ''electron'.s**-1' (suppressing further warnings of this type...) [astropy.io.votable.tree]\n",
      "WARNING: W06: None:177:0: W06: Invalid UCD 'arith.ratio': Secondary word 'arith.ratio' is not valid as a primary word [astropy.io.votable.tree]\n",
      "WARNING: W06: None:192:0: W06: Invalid UCD 'arith.ratio': Secondary word 'arith.ratio' is not valid as a primary word [astropy.io.votable.tree]\n",
      "WARNING: W06: None:204:0: W06: Invalid UCD 'phot.color': Unknown word 'phot.color' [astropy.io.votable.tree]\n",
      "WARNING: W06: None:207:0: W06: Invalid UCD 'phot.color': Unknown word 'phot.color' [astropy.io.votable.tree]\n",
      "WARNING: W06: None:210:0: W06: Invalid UCD 'phot.color': Unknown word 'phot.color' [astropy.io.votable.tree]\n",
      "WARNING: W06: None:282:0: W06: Invalid UCD 'phys.size.radius;stat.error': Primary word 'stat.error' is not valid as a secondary word (suppressing further warnings of this type...) [astropy.io.votable.tree]\n"
     ]
    }
   ],
   "source": [
    "d = query_gaia(ra, dec, rad=10)"
   ]
  },
  {
   "cell_type": "code",
   "execution_count": 5,
   "metadata": {},
   "outputs": [
    {
     "name": "stdout",
     "output_type": "stream",
     "text": [
      "0 dist\n",
      "1 solution_id\n",
      "2 designation\n",
      "3 source_id\n",
      "4 random_index\n",
      "5 ref_epoch\n",
      "6 ra\n",
      "7 ra_error\n",
      "8 dec\n",
      "9 dec_error\n",
      "10 parallax\n",
      "11 parallax_error\n",
      "12 parallax_over_error\n",
      "13 pmra\n",
      "14 pmra_error\n",
      "15 pmdec\n",
      "16 pmdec_error\n",
      "17 ra_dec_corr\n",
      "18 ra_parallax_corr\n",
      "19 ra_pmra_corr\n",
      "20 ra_pmdec_corr\n",
      "21 dec_parallax_corr\n",
      "22 dec_pmra_corr\n",
      "23 dec_pmdec_corr\n",
      "24 parallax_pmra_corr\n",
      "25 parallax_pmdec_corr\n",
      "26 pmra_pmdec_corr\n",
      "27 astrometric_n_obs_al\n",
      "28 astrometric_n_obs_ac\n",
      "29 astrometric_n_good_obs_al\n",
      "30 astrometric_n_bad_obs_al\n",
      "31 astrometric_gof_al\n",
      "32 astrometric_chi2_al\n",
      "33 astrometric_excess_noise\n",
      "34 astrometric_excess_noise_sig\n",
      "35 astrometric_params_solved\n",
      "36 astrometric_primary_flag\n",
      "37 astrometric_weight_al\n",
      "38 astrometric_pseudo_colour\n",
      "39 astrometric_pseudo_colour_error\n",
      "40 mean_varpi_factor_al\n",
      "41 astrometric_matched_observations\n",
      "42 visibility_periods_used\n",
      "43 astrometric_sigma5d_max\n",
      "44 frame_rotator_object_type\n",
      "45 matched_observations\n",
      "46 duplicated_source\n",
      "47 phot_g_n_obs\n",
      "48 phot_g_mean_flux\n",
      "49 phot_g_mean_flux_error\n",
      "50 phot_g_mean_flux_over_error\n",
      "51 phot_g_mean_mag\n",
      "52 phot_bp_n_obs\n",
      "53 phot_bp_mean_flux\n",
      "54 phot_bp_mean_flux_error\n",
      "55 phot_bp_mean_flux_over_error\n",
      "56 phot_bp_mean_mag\n",
      "57 phot_rp_n_obs\n",
      "58 phot_rp_mean_flux\n",
      "59 phot_rp_mean_flux_error\n",
      "60 phot_rp_mean_flux_over_error\n",
      "61 phot_rp_mean_mag\n",
      "62 phot_bp_rp_excess_factor\n",
      "63 phot_proc_mode\n",
      "64 bp_rp\n",
      "65 bp_g\n",
      "66 g_rp\n",
      "67 radial_velocity\n",
      "68 radial_velocity_error\n",
      "69 rv_nb_transits\n",
      "70 rv_template_teff\n",
      "71 rv_template_logg\n",
      "72 rv_template_fe_h\n",
      "73 phot_variable_flag\n",
      "74 l\n",
      "75 b\n",
      "76 ecl_lon\n",
      "77 ecl_lat\n",
      "78 priam_flags\n",
      "79 teff_val\n",
      "80 teff_percentile_lower\n",
      "81 teff_percentile_upper\n",
      "82 a_g_val\n",
      "83 a_g_percentile_lower\n",
      "84 a_g_percentile_upper\n",
      "85 e_bp_min_rp_val\n",
      "86 e_bp_min_rp_percentile_lower\n",
      "87 e_bp_min_rp_percentile_upper\n",
      "88 flame_flags\n",
      "89 radius_val\n",
      "90 radius_percentile_lower\n",
      "91 radius_percentile_upper\n",
      "92 lum_val\n",
      "93 lum_percentile_lower\n",
      "94 lum_percentile_upper\n",
      "95 datalink_url\n",
      "96 epoch_photometry_url\n"
     ]
    }
   ],
   "source": [
    "params = d.columns\n",
    "for n,p in enumerate(params):\n",
    "    print(n,p)"
   ]
  },
  {
   "cell_type": "code",
   "execution_count": 6,
   "metadata": {},
   "outputs": [
    {
     "name": "stdout",
     "output_type": "stream",
     "text": [
      "                                      0\n",
      "parallax                       1.915358\n",
      "parallax_error                 0.037607\n",
      "parallax_over_error           50.931164\n",
      "pmra                          -9.427892\n",
      "pmra_error                     0.057259\n",
      "pmdec                         -1.841571\n",
      "pmdec_error                    0.033916\n",
      "astrometric_excess_noise       0.000000\n",
      "astrometric_excess_noise_sig   0.000000\n",
      "radial_velocity                     NaN\n",
      "radial_velocity_error               NaN\n"
     ]
    }
   ],
   "source": [
    "#basic\n",
    "idx = [10,11,12,13,14,15,16,33,34,67,68]\n",
    "print(d[params[idx]].T)"
   ]
  },
  {
   "cell_type": "code",
   "execution_count": 7,
   "metadata": {},
   "outputs": [
    {
     "name": "stdout",
     "output_type": "stream",
     "text": [
      "                          0\n",
      "phot_g_mean_mag   14.175430\n",
      "phot_bp_mean_mag  14.626936\n",
      "phot_rp_mean_mag  13.577678\n"
     ]
    }
   ],
   "source": [
    "#photometry\n",
    "idx2 = [51,56,61]\n",
    "print(d[params[idx2]].T)"
   ]
  },
  {
   "cell_type": "code",
   "execution_count": 8,
   "metadata": {},
   "outputs": [
    {
     "name": "stdout",
     "output_type": "stream",
     "text": [
      "                                   0\n",
      "teff_val                 5096.306641\n",
      "teff_percentile_lower    5057.826660\n",
      "teff_percentile_upper    5165.152344\n",
      "radius_val                  0.879089\n",
      "radius_percentile_lower     0.855810\n",
      "radius_percentile_upper     0.892516\n",
      "a_g_val                     0.170000\n",
      "a_g_percentile_lower        0.000000\n",
      "a_g_percentile_upper        0.348700\n"
     ]
    }
   ],
   "source": [
    "#star\n",
    "idx3 = [79,80,81,89,90,91,82,83,84]\n",
    "print(d[params[idx3]].T)"
   ]
  },
  {
   "cell_type": "code",
   "execution_count": null,
   "metadata": {},
   "outputs": [],
   "source": []
  }
 ],
 "metadata": {
  "kernelspec": {
   "display_name": "Python 3",
   "language": "python",
   "name": "python3"
  },
  "language_info": {
   "codemirror_mode": {
    "name": "ipython",
    "version": 3
   },
   "file_extension": ".py",
   "mimetype": "text/x-python",
   "name": "python",
   "nbconvert_exporter": "python",
   "pygments_lexer": "ipython3",
   "version": "3.6.1"
  }
 },
 "nbformat": 4,
 "nbformat_minor": 2
}
